{
 "cells": [
  {
   "cell_type": "markdown",
   "metadata": {},
   "source": [
    "# 8. Graphical Models"
   ]
  },
  {
   "cell_type": "code",
   "execution_count": 1,
   "metadata": {},
   "outputs": [],
   "source": [
    "from prml import bayesnet as bn"
   ]
  },
  {
   "cell_type": "code",
   "execution_count": 2,
   "metadata": {},
   "outputs": [],
   "source": [
    "b = bn.discrete([0.1, 0.9])\n",
    "f = bn.discrete([0.1, 0.9])\n",
    "\n",
    "g = bn.discrete([[[0.9, 0.8], [0.8, 0.2]], [[0.1, 0.2], [0.2, 0.8]]], b, f)"
   ]
  },
  {
   "cell_type": "code",
   "execution_count": 3,
   "metadata": {},
   "outputs": [
    {
     "name": "stdout",
     "output_type": "stream",
     "text": [
      "b: DiscreteVariable(proba=[0.1 0.9])\n",
      "f: DiscreteVariable(proba=[0.1 0.9])\n",
      "g: DiscreteVariable(proba=[0.315 0.685])\n"
     ]
    }
   ],
   "source": [
    "print(\"b:\", b)\n",
    "print(\"f:\", f)\n",
    "print(\"g:\", g)"
   ]
  },
  {
   "cell_type": "code",
   "execution_count": 4,
   "metadata": {},
   "outputs": [],
   "source": [
    "g.observe(0)"
   ]
  },
  {
   "cell_type": "code",
   "execution_count": 5,
   "metadata": {},
   "outputs": [
    {
     "name": "stdout",
     "output_type": "stream",
     "text": [
      "b: DiscreteVariable(prior=[0.1 0.9], posterior=[0.25714286 0.74285714])\n",
      "f: DiscreteVariable(prior=[0.1 0.9], posterior=[0.25714286 0.74285714])\n",
      "g: DiscreteVariable(observed=[1. 0.])\n"
     ]
    }
   ],
   "source": [
    "print(\"b:\", b)\n",
    "print(\"f:\", f)\n",
    "print(\"g:\", g)"
   ]
  },
  {
   "cell_type": "code",
   "execution_count": 6,
   "metadata": {},
   "outputs": [],
   "source": [
    "b.observe(0)"
   ]
  },
  {
   "cell_type": "code",
   "execution_count": 7,
   "metadata": {},
   "outputs": [
    {
     "name": "stdout",
     "output_type": "stream",
     "text": [
      "b: DiscreteVariable(observed=[1. 0.])\n",
      "f: DiscreteVariable(prior=[0.1 0.9], posterior=[0.11111111 0.88888889])\n",
      "g: DiscreteVariable(observed=[1. 0.])\n"
     ]
    }
   ],
   "source": [
    "print(\"b:\", b)\n",
    "print(\"f:\", f)\n",
    "print(\"g:\", g)"
   ]
  }
 ],
 "metadata": {
  "kernelspec": {
   "display_name": "Python 3",
   "language": "python",
   "name": "python3"
  },
  "language_info": {
   "codemirror_mode": {
    "name": "ipython",
    "version": 3
   },
   "file_extension": ".py",
   "mimetype": "text/x-python",
   "name": "python",
   "nbconvert_exporter": "python",
   "pygments_lexer": "ipython3",
   "version": "3.7.0"
  }
 },
 "nbformat": 4,
 "nbformat_minor": 2
}
